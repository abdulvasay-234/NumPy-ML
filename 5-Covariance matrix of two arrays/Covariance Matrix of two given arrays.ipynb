{
 "cells": [
  {
   "cell_type": "code",
   "execution_count": 1,
   "id": "2284f0fb",
   "metadata": {},
   "outputs": [
    {
     "name": "stdout",
     "output_type": "stream",
     "text": [
      "\n",
      "Original array1:\n",
      "[2 3 4]\n",
      "\n",
      "Original array1:\n",
      "[9 5 7]\n",
      "\n",
      "Covariance matrix of the said arrays:\n",
      " [[ 1. -1.]\n",
      " [-1.  4.]]\n"
     ]
    }
   ],
   "source": [
    "import numpy as np\n",
    "x = np.array([2, 3, 4])\n",
    "y = np.array([9, 5, 7])\n",
    "print(\"\\nOriginal array1:\")\n",
    "print(x)\n",
    "print(\"\\nOriginal array1:\")\n",
    "print(y)\n",
    "print(\"\\nCovariance matrix of the said arrays:\\n\",np.cov(x, y))"
   ]
  },
  {
   "cell_type": "code",
   "execution_count": 3,
   "id": "8a9a58cc",
   "metadata": {},
   "outputs": [
    {
     "name": "stdout",
     "output_type": "stream",
     "text": [
      "[0 1 1]\n",
      "[2 2 1]\n",
      "\n",
      "Covariance matrix of the said arrays:\n",
      " [[ 0.33333333 -0.16666667]\n",
      " [-0.16666667  0.33333333]]\n"
     ]
    }
   ],
   "source": [
    "import numpy as np\n",
    "array1 = np.array([0, 1, 1])\n",
    "array2 = np.array([2, 2, 1])\n",
    "# Original array1\n",
    "print(array1)\n",
    "# Original array2\n",
    "print(array2)\n",
    "# Covariance matrix\n",
    "print(\"\\nCovariance matrix of the said arrays:\\n\", np.cov(array1, array2))\n"
   ]
  },
  {
   "cell_type": "code",
   "execution_count": 4,
   "id": "922539a4",
   "metadata": {},
   "outputs": [
    {
     "name": "stdout",
     "output_type": "stream",
     "text": [
      "[1 2]\n",
      "[1 2]\n",
      "\n",
      "Covariance matrix of the said arrays:\n",
      " [[0.5 0.5]\n",
      " [0.5 0.5]]\n"
     ]
    }
   ],
   "source": [
    "import numpy as np\n",
    "array1 = np.array([1, 2])\n",
    "array2 = np.array([1, 2])\n",
    "# Original array1\n",
    "print(array1)\n",
    "# Original array2\n",
    "print(array2)\n",
    "# Covariance matrix\n",
    "print(\"\\nCovariance matrix of the said arrays:\\n\",np.cov(array1, array2))\n"
   ]
  },
  {
   "cell_type": "code",
   "execution_count": null,
   "id": "8bd21cd1",
   "metadata": {},
   "outputs": [],
   "source": []
  }
 ],
 "metadata": {
  "kernelspec": {
   "display_name": "Python 3 (ipykernel)",
   "language": "python",
   "name": "python3"
  },
  "language_info": {
   "codemirror_mode": {
    "name": "ipython",
    "version": 3
   },
   "file_extension": ".py",
   "mimetype": "text/x-python",
   "name": "python",
   "nbconvert_exporter": "python",
   "pygments_lexer": "ipython3",
   "version": "3.9.12"
  }
 },
 "nbformat": 4,
 "nbformat_minor": 5
}
