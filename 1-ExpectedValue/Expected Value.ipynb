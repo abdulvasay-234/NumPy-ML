{
 "cells": [
  {
   "cell_type": "code",
   "execution_count": 1,
   "id": "35d8f5ea",
   "metadata": {},
   "outputs": [
    {
     "data": {
      "text/plain": [
       "1.4500000000000002"
      ]
     },
     "execution_count": 1,
     "metadata": {},
     "output_type": "execute_result"
    }
   ],
   "source": [
    "import numpy as np\n",
    "def expected_value(values, probs):\n",
    " values = np.asarray(values)\n",
    " probs = np.asarray(probs)\n",
    " return (values * probs).sum() / probs.sum()\n",
    "#define values\n",
    "values = [2, 3, 4, 3, 4]\n",
    "#define probabilities\n",
    "probs = [.18, .34, .35, .11, .02]\n",
    "#calculate expected value\n",
    "expected_value(values, probs)"
   ]
  },
  {
   "cell_type": "code",
   "execution_count": null,
   "id": "9f5124cf",
   "metadata": {},
   "outputs": [],
   "source": []
  }
 ],
 "metadata": {
  "kernelspec": {
   "display_name": "Python 3 (ipykernel)",
   "language": "python",
   "name": "python3"
  },
  "language_info": {
   "codemirror_mode": {
    "name": "ipython",
    "version": 3
   },
   "file_extension": ".py",
   "mimetype": "text/x-python",
   "name": "python",
   "nbconvert_exporter": "python",
   "pygments_lexer": "ipython3",
   "version": "3.9.12"
  }
 },
 "nbformat": 4,
 "nbformat_minor": 5
}
