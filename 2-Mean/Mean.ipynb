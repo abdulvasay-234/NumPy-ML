{
 "cells": [
  {
   "cell_type": "code",
   "execution_count": 2,
   "id": "bb7c672d",
   "metadata": {},
   "outputs": [
    {
     "name": "stdout",
     "output_type": "stream",
     "text": [
      "array :  [22, 34, 76, 79, 564]\n",
      "Mean of array :  155.0\n"
     ]
    }
   ],
   "source": [
    "# Python Program illustrating\n",
    "# numpy.mean() method\n",
    "import numpy as np\n",
    "# 1D array\n",
    "a = [22, 34, 76, 79, 564]\n",
    "print(\"array : \", a)\n",
    "print(\"Mean of array : \", np.mean(a))"
   ]
  },
  {
   "cell_type": "code",
   "execution_count": 4,
   "id": "175747e3",
   "metadata": {},
   "outputs": [
    {
     "name": "stdout",
     "output_type": "stream",
     "text": [
      "Original array:\n",
      "[[ 16 360]\n",
      " [277  80]]\n",
      "Mean of each column:\n",
      "[146.5 220. ]\n",
      "Mean of each row:\n",
      "[188.  178.5]\n"
     ]
    }
   ],
   "source": [
    "# 2D Array\n",
    "import numpy as np\n",
    "x = np.array([[16, 360], [277, 80]])\n",
    "print(\"Original array:\")\n",
    "print(x)\n",
    "print(\"Mean of each column:\")\n",
    "print(x.mean(axis=0))\n",
    "print(\"Mean of each row:\")\n",
    "print(x.mean(axis=1))"
   ]
  },
  {
   "cell_type": "code",
   "execution_count": null,
   "id": "7ec34f6a",
   "metadata": {},
   "outputs": [],
   "source": []
  }
 ],
 "metadata": {
  "kernelspec": {
   "display_name": "Python 3 (ipykernel)",
   "language": "python",
   "name": "python3"
  },
  "language_info": {
   "codemirror_mode": {
    "name": "ipython",
    "version": 3
   },
   "file_extension": ".py",
   "mimetype": "text/x-python",
   "name": "python",
   "nbconvert_exporter": "python",
   "pygments_lexer": "ipython3",
   "version": "3.9.12"
  }
 },
 "nbformat": 4,
 "nbformat_minor": 5
}
