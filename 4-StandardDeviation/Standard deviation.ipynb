{
 "cells": [
  {
   "cell_type": "code",
   "execution_count": 1,
   "id": "9ec45bd8",
   "metadata": {},
   "outputs": [
    {
     "name": "stdout",
     "output_type": "stream",
     "text": [
      "[0 1 2 3 4 5 6 7 8 9]\n",
      "\n",
      "Mean:  4.5\n",
      "\n",
      "std:  2.8722813232690143\n",
      "\n",
      "variance:  8.25\n"
     ]
    }
   ],
   "source": [
    "import numpy as np\n",
    "# Original array\n",
    "array = np.arange(10)\n",
    "print(array)\n",
    "r1 = np.mean(array)\n",
    "print(\"\\nMean: \", r1)\n",
    "r2 = np.std(array)\n",
    "print(\"\\nstd: \", r2)\n",
    "r3 = np.var(array)\n",
    "print(\"\\nvariance: \", r3)\n"
   ]
  },
  {
   "cell_type": "code",
   "execution_count": 2,
   "id": "07e1a8d6",
   "metadata": {},
   "outputs": [
    {
     "name": "stdout",
     "output_type": "stream",
     "text": [
      "[0 1 2 3 4 5 6 7 8 9]\n",
      "\n",
      "Mean:  4.5\n",
      "\n",
      "std:  2.8722813232690143\n",
      "\n",
      "variance:  8.25\n"
     ]
    }
   ],
   "source": [
    "# Using the formulas\n",
    "import numpy as np\n",
    "# Original array\n",
    "array = np.arange(10)\n",
    "print(array)\n",
    "r1 = np.average(array)\n",
    "print(\"\\nMean: \", r1)\n",
    "r2 = np.sqrt(np.mean((array - np.mean(array)) ** 2))\n",
    "print(\"\\nstd: \", r2)\n",
    "r3 = np.mean((array - np.mean(array)) ** 2)\n",
    "print(\"\\nvariance: \", r3)"
   ]
  },
  {
   "cell_type": "code",
   "execution_count": 3,
   "id": "dc1f7a3d",
   "metadata": {},
   "outputs": [
    {
     "name": "stdout",
     "output_type": "stream",
     "text": [
      "\n",
      "std of arr, axis = None :  49.04573758238324\n",
      "\n",
      "std of arr, axis = 0 :  [ 5.  15.   4.   5.5]\n",
      "\n",
      "std of arr, axis = 1 :  [49.92995093 47.00199464]\n"
     ]
    }
   ],
   "source": [
    "# Python Program illustrating\n",
    "# numpy.std() method\n",
    "import numpy as np\n",
    "# 2D array\n",
    "a=np.array([[14,24,74,140],[24,54,82,151]]) \n",
    "# std of the flattened array\n",
    "print(\"\\nstd of arr, axis = None : \", np.std(a))\n",
    "# std along the axis = 0\n",
    "print(\"\\nstd of arr, axis = 0 : \", np.std(a, axis=0) )\n",
    "# std along the axis = 1\n",
    "print(\"\\nstd of arr, axis = 1 : \", np.std(a, axis = 1))\n"
   ]
  },
  {
   "cell_type": "code",
   "execution_count": null,
   "id": "cffe1bb0",
   "metadata": {},
   "outputs": [],
   "source": []
  }
 ],
 "metadata": {
  "kernelspec": {
   "display_name": "Python 3 (ipykernel)",
   "language": "python",
   "name": "python3"
  },
  "language_info": {
   "codemirror_mode": {
    "name": "ipython",
    "version": 3
   },
   "file_extension": ".py",
   "mimetype": "text/x-python",
   "name": "python",
   "nbconvert_exporter": "python",
   "pygments_lexer": "ipython3",
   "version": "3.9.12"
  }
 },
 "nbformat": 4,
 "nbformat_minor": 5
}
