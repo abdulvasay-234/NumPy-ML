{
 "cells": [
  {
   "cell_type": "code",
   "execution_count": 2,
   "id": "2971214f",
   "metadata": {},
   "outputs": [
    {
     "name": "stdout",
     "output_type": "stream",
     "text": [
      "Array :  [25, 32, 76, 4, 54]\n",
      "Variance of array :  612.16\n"
     ]
    }
   ],
   "source": [
    "# Python Program illustrating\n",
    "# numpy.var() method\n",
    "import numpy as np\n",
    "# 1D array\n",
    "a = [25, 32, 76, 4, 54]\n",
    "print(\"Array : \", a)\n",
    "print(\"Variance of array : \", np.var(a))"
   ]
  },
  {
   "cell_type": "code",
   "execution_count": 4,
   "id": "f9442e48",
   "metadata": {},
   "outputs": [
    {
     "name": "stdout",
     "output_type": "stream",
     "text": [
      "\n",
      "var of arr, axis = None :  5076.389999999999\n",
      "\n",
      "var of arr, axis = 0 :  [3.11218750e+03 1.27187500e+02 1.04006875e+04 5.12500000e+01\n",
      " 9.18750000e+00]\n",
      "\n",
      "var of arr, axis = 1 :  [  82.16 8638.64  296.8  7997.84]\n"
     ]
    }
   ],
   "source": [
    "# Python Program illustrating\n",
    "# numpy.var() method\n",
    "import numpy as np\n",
    " \n",
    "# 2D array\n",
    "arr = [[2, 23, 22, 25, 9],\n",
    " [15, 46, 247, 8, 2],\n",
    " [23, 22, 54, 14, 2, ],\n",
    " [141, 44, 234, 7, 2]]\n",
    " \n",
    "# var of the flattened array\n",
    "print(\"\\nvar of arr, axis = None : \", np.var(arr))\n",
    " \n",
    "# var along the axis = 0\n",
    "print(\"\\nvar of arr, axis = 0 : \", np.var(arr, axis = 0))\n",
    "# var along the axis = 1\n",
    "print(\"\\nvar of arr, axis = 1 : \", np.var(arr, axis = 1))"
   ]
  },
  {
   "cell_type": "code",
   "execution_count": null,
   "id": "384ad9fb",
   "metadata": {},
   "outputs": [],
   "source": []
  }
 ],
 "metadata": {
  "kernelspec": {
   "display_name": "Python 3 (ipykernel)",
   "language": "python",
   "name": "python3"
  },
  "language_info": {
   "codemirror_mode": {
    "name": "ipython",
    "version": 3
   },
   "file_extension": ".py",
   "mimetype": "text/x-python",
   "name": "python",
   "nbconvert_exporter": "python",
   "pygments_lexer": "ipython3",
   "version": "3.9.12"
  }
 },
 "nbformat": 4,
 "nbformat_minor": 5
}
